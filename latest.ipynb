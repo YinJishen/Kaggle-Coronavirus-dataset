{
 "cells": [
  {
   "cell_type": "code",
   "execution_count": 11,
   "metadata": {},
   "outputs": [],
   "source": [
    "import pandas as pd\n",
    "import numpy as np\n",
    "from pyecharts import Map\n",
    "from echarts_countries_pypkg import resources\n",
    "import pyecharts_snapshot"
   ]
  },
  {
   "cell_type": "code",
   "execution_count": 12,
   "metadata": {},
   "outputs": [
    {
     "data": {
      "text/plain": [
       "(1877, 7)"
      ]
     },
     "execution_count": 12,
     "metadata": {},
     "output_type": "execute_result"
    }
   ],
   "source": [
    "data = pd.read_csv(\"data/2019_nCoV_20200121_20200206.csv\")\n",
    "data.shape"
   ]
  },
  {
   "cell_type": "code",
   "execution_count": 13,
   "metadata": {},
   "outputs": [
    {
     "data": {
      "text/plain": [
       "Index(['Province/State', 'Country/Region', 'Last Update', 'Confirmed',\n",
       "       'Suspected', 'Recovered', 'Death'],\n",
       "      dtype='object')"
      ]
     },
     "execution_count": 13,
     "metadata": {},
     "output_type": "execute_result"
    }
   ],
   "source": [
    "data.columns"
   ]
  },
  {
   "cell_type": "code",
   "execution_count": 14,
   "metadata": {},
   "outputs": [
    {
     "data": {
      "text/plain": [
       "(1028, 7)"
      ]
     },
     "execution_count": 14,
     "metadata": {},
     "output_type": "execute_result"
    }
   ],
   "source": [
    "mainland = data[data['Country/Region']=='Mainland China'].fillna(0)\n",
    "mainland.shape"
   ]
  },
  {
   "cell_type": "code",
   "execution_count": 15,
   "metadata": {},
   "outputs": [
    {
     "data": {
      "text/plain": [
       "array(['Anhui', 'Beijing', 'Chongqing', 'Fujian', 'Gansu', 'Guangdong',\n",
       "       'Guangxi', 'Guizhou', 'Hainan', 'Hebei', 'Heilongjiang', 'Henan',\n",
       "       'Hubei', 'Hunan', 'Inner Mongolia', 'Jiangsu', 'Jiangxi', 'Jilin',\n",
       "       'Liaoning', 'Ningxia', 'Qinghai', 'Shaanxi', 'Shandong',\n",
       "       'Shanghai', 'Shanxi', 'Sichuan', 'Tianjin', 'Tibet', 'Xinjiang',\n",
       "       'Yunnan', 'Zhejiang'], dtype=object)"
      ]
     },
     "execution_count": 15,
     "metadata": {},
     "output_type": "execute_result"
    }
   ],
   "source": [
    "np.unique(mainland['Province/State'])"
   ]
  },
  {
   "cell_type": "code",
   "execution_count": 16,
   "metadata": {},
   "outputs": [
    {
     "data": {
      "text/plain": [
       "(31, 6)"
      ]
     },
     "execution_count": 16,
     "metadata": {},
     "output_type": "execute_result"
    }
   ],
   "source": [
    "latest = mainland.sort_values(by='Confirmed', ascending=False).groupby('Province/State').first()\n",
    "latest.shape"
   ]
  },
  {
   "cell_type": "code",
   "execution_count": 17,
   "metadata": {},
   "outputs": [],
   "source": [
    "conv = {'Beijing': '北京', 'Shanghai': '上海', 'Tianjin': '天津', 'Chongqing': '重庆', 'Anhui': '安徽',\n",
    "        'Fujian':'福建', 'Guangdong': '广东', 'Guangxi': '广西', 'Guizhou': '贵州', 'Gansu': '甘肃', 'Hainan': '海南', \n",
    "        'Hebei': '河北', 'Henan': '河南', 'Heilongjiang': '黑龙江', 'Hubei': '湖北', 'Hunan': '湖南', 'Jilin': '吉林', \n",
    "        'Jiangsu': '江苏', 'Jiangxi': '江西', 'Liaoning': '辽宁', 'Inner Mongolia': '内蒙古', 'Ningxia': '宁夏', \n",
    "        'Qinghai': '青海', 'Shanxi': '山西', 'Shaanxi': '陕西', 'Shandong': '山东', 'Sichuan': '四川', \n",
    "        'Tibet': '西藏', 'Xinjiang': '新疆', 'Yunnan': '云南', 'Zhejiang': '浙江'}"
   ]
  },
  {
   "cell_type": "code",
   "execution_count": 18,
   "metadata": {},
   "outputs": [
    {
     "name": "stdout",
     "output_type": "stream",
     "text": [
      "phantomjs version: 2.1.1\n",
      "\n",
      "Generating file ...\n",
      "File saved in C:\\Users\\cnyin\\Desktop\\duke\\Kaggle\\Kaggle-Coronavirus-dataset\\latest1.png\n"
     ]
    }
   ],
   "source": [
    "value = np.log10(np.array(latest['Confirmed']))\n",
    "attr = [conv[x] for x in np.array(latest.index)]\n",
    "m = Map('log10 Confirmed until 02/06/2020 with Hubei', width=1200, height=600)\n",
    "m.add(\"\", attr, value, is_map_symbol_show=True, maptype='china',\n",
    "      is_visualmap=True, visual_text_color='#000', visual_range=[np.min(value), np.max(value)])\n",
    "m.render('latest1.html')\n",
    "m.render('latest1.png')"
   ]
  },
  {
   "cell_type": "code",
   "execution_count": 19,
   "metadata": {},
   "outputs": [
    {
     "name": "stdout",
     "output_type": "stream",
     "text": [
      "phantomjs version: 2.1.1\n",
      "\n",
      "Generating file ...\n",
      "File saved in C:\\Users\\cnyin\\Desktop\\duke\\Kaggle\\Kaggle-Coronavirus-dataset\\latest2.png\n"
     ]
    }
   ],
   "source": [
    "latest2 = latest[latest.index!='Hubei']\n",
    "\n",
    "value = np.array(latest2['Confirmed'])\n",
    "attr = [conv[x] for x in np.array(latest2.index)]\n",
    "m = Map('Confirmed until 02/06/2020 without Hubei', width=1200, height=600)\n",
    "m.add(\"\", attr, value, is_map_symbol_show=True, maptype='china',\n",
    "      is_visualmap=True, visual_text_color='#000', visual_range=[np.min(value), np.max(value)])\n",
    "m.render('latest2.html')\n",
    "m.render('latest2.png')"
   ]
  },
  {
   "cell_type": "code",
   "execution_count": null,
   "metadata": {},
   "outputs": [],
   "source": []
  }
 ],
 "metadata": {
  "kernelspec": {
   "display_name": "Python 3",
   "language": "python",
   "name": "python3"
  },
  "language_info": {
   "codemirror_mode": {
    "name": "ipython",
    "version": 3
   },
   "file_extension": ".py",
   "mimetype": "text/x-python",
   "name": "python",
   "nbconvert_exporter": "python",
   "pygments_lexer": "ipython3",
   "version": "3.7.4"
  }
 },
 "nbformat": 4,
 "nbformat_minor": 2
}
